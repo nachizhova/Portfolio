{
 "cells": [
  {
   "cell_type": "markdown",
   "id": "e091f8a9",
   "metadata": {},
   "source": [
    "# Проектная работа: Исследование надежности заемщиков банка"
   ]
  },
  {
   "cell_type": "markdown",
   "id": "a26d547f",
   "metadata": {},
   "source": [
    "Заказчик — кредитный отдел банка. Необходимо исследовать данные и разобраться, влияет ли семейное положение и количество детей клиента на факт погашения кредита в срок. Входные данные от банка — статистика о платёжеспособности клиентов.\n",
    "\n",
    "Результаты исследования будут учтены при построении модели кредитного скоринга — специальной системы, которая оценивает способность потенциального заёмщика вернуть кредит банку.\n",
    "\n",
    "Описание данных:\n",
    "- children — количество детей в семье\n",
    "- days_employed — общий трудовой стаж в днях\n",
    "- dob_years — возраст клиента в годах\n",
    "- education — уровень образования клиента\n",
    "- education_id — идентификатор уровня образования\n",
    "- family_status — семейное положение\n",
    "- family_status_id — идентификатор семейного положения\n",
    "- gender — пол клиента\n",
    "- income_type — тип занятости\n",
    "- debt — имел ли задолженность по возврату кредитов\n",
    "- total_income — ежемесячный доход\n",
    "- purpose — цель получения кредита"
   ]
  },
  {
   "cell_type": "markdown",
   "id": "f4a79339",
   "metadata": {},
   "source": [
    "### Откроем таблицу и изучим информацию о данных"
   ]
  },
  {
   "cell_type": "markdown",
   "id": "fd9c74a6",
   "metadata": {},
   "source": [
    "**1. Импортируем библиотеку pandas и сохраним данные из csv-файла в датафрейм `data`, выведем первые 10 строк.**"
   ]
  },
  {
   "cell_type": "code",
   "execution_count": 1,
   "id": "b9836d10",
   "metadata": {
    "scrolled": true
   },
   "outputs": [],
   "source": [
    "import pandas as pd"
   ]
  },
  {
   "cell_type": "code",
   "execution_count": 2,
   "id": "8b157bdc",
   "metadata": {},
   "outputs": [
    {
     "data": {
      "text/html": [
       "<div>\n",
       "<style scoped>\n",
       "    .dataframe tbody tr th:only-of-type {\n",
       "        vertical-align: middle;\n",
       "    }\n",
       "\n",
       "    .dataframe tbody tr th {\n",
       "        vertical-align: top;\n",
       "    }\n",
       "\n",
       "    .dataframe thead th {\n",
       "        text-align: right;\n",
       "    }\n",
       "</style>\n",
       "<table border=\"1\" class=\"dataframe\">\n",
       "  <thead>\n",
       "    <tr style=\"text-align: right;\">\n",
       "      <th></th>\n",
       "      <th>children</th>\n",
       "      <th>days_employed</th>\n",
       "      <th>dob_years</th>\n",
       "      <th>education</th>\n",
       "      <th>education_id</th>\n",
       "      <th>family_status</th>\n",
       "      <th>family_status_id</th>\n",
       "      <th>gender</th>\n",
       "      <th>income_type</th>\n",
       "      <th>debt</th>\n",
       "      <th>total_income</th>\n",
       "      <th>purpose</th>\n",
       "    </tr>\n",
       "  </thead>\n",
       "  <tbody>\n",
       "    <tr>\n",
       "      <th>0</th>\n",
       "      <td>1</td>\n",
       "      <td>-8437.673028</td>\n",
       "      <td>42</td>\n",
       "      <td>высшее</td>\n",
       "      <td>0</td>\n",
       "      <td>женат / замужем</td>\n",
       "      <td>0</td>\n",
       "      <td>F</td>\n",
       "      <td>сотрудник</td>\n",
       "      <td>0</td>\n",
       "      <td>253875.639453</td>\n",
       "      <td>покупка жилья</td>\n",
       "    </tr>\n",
       "    <tr>\n",
       "      <th>1</th>\n",
       "      <td>1</td>\n",
       "      <td>-4024.803754</td>\n",
       "      <td>36</td>\n",
       "      <td>среднее</td>\n",
       "      <td>1</td>\n",
       "      <td>женат / замужем</td>\n",
       "      <td>0</td>\n",
       "      <td>F</td>\n",
       "      <td>сотрудник</td>\n",
       "      <td>0</td>\n",
       "      <td>112080.014102</td>\n",
       "      <td>приобретение автомобиля</td>\n",
       "    </tr>\n",
       "    <tr>\n",
       "      <th>2</th>\n",
       "      <td>0</td>\n",
       "      <td>-5623.422610</td>\n",
       "      <td>33</td>\n",
       "      <td>Среднее</td>\n",
       "      <td>1</td>\n",
       "      <td>женат / замужем</td>\n",
       "      <td>0</td>\n",
       "      <td>M</td>\n",
       "      <td>сотрудник</td>\n",
       "      <td>0</td>\n",
       "      <td>145885.952297</td>\n",
       "      <td>покупка жилья</td>\n",
       "    </tr>\n",
       "    <tr>\n",
       "      <th>3</th>\n",
       "      <td>3</td>\n",
       "      <td>-4124.747207</td>\n",
       "      <td>32</td>\n",
       "      <td>среднее</td>\n",
       "      <td>1</td>\n",
       "      <td>женат / замужем</td>\n",
       "      <td>0</td>\n",
       "      <td>M</td>\n",
       "      <td>сотрудник</td>\n",
       "      <td>0</td>\n",
       "      <td>267628.550329</td>\n",
       "      <td>дополнительное образование</td>\n",
       "    </tr>\n",
       "    <tr>\n",
       "      <th>4</th>\n",
       "      <td>0</td>\n",
       "      <td>340266.072047</td>\n",
       "      <td>53</td>\n",
       "      <td>среднее</td>\n",
       "      <td>1</td>\n",
       "      <td>гражданский брак</td>\n",
       "      <td>1</td>\n",
       "      <td>F</td>\n",
       "      <td>пенсионер</td>\n",
       "      <td>0</td>\n",
       "      <td>158616.077870</td>\n",
       "      <td>сыграть свадьбу</td>\n",
       "    </tr>\n",
       "    <tr>\n",
       "      <th>5</th>\n",
       "      <td>0</td>\n",
       "      <td>-926.185831</td>\n",
       "      <td>27</td>\n",
       "      <td>высшее</td>\n",
       "      <td>0</td>\n",
       "      <td>гражданский брак</td>\n",
       "      <td>1</td>\n",
       "      <td>M</td>\n",
       "      <td>компаньон</td>\n",
       "      <td>0</td>\n",
       "      <td>255763.565419</td>\n",
       "      <td>покупка жилья</td>\n",
       "    </tr>\n",
       "    <tr>\n",
       "      <th>6</th>\n",
       "      <td>0</td>\n",
       "      <td>-2879.202052</td>\n",
       "      <td>43</td>\n",
       "      <td>высшее</td>\n",
       "      <td>0</td>\n",
       "      <td>женат / замужем</td>\n",
       "      <td>0</td>\n",
       "      <td>F</td>\n",
       "      <td>компаньон</td>\n",
       "      <td>0</td>\n",
       "      <td>240525.971920</td>\n",
       "      <td>операции с жильем</td>\n",
       "    </tr>\n",
       "    <tr>\n",
       "      <th>7</th>\n",
       "      <td>0</td>\n",
       "      <td>-152.779569</td>\n",
       "      <td>50</td>\n",
       "      <td>СРЕДНЕЕ</td>\n",
       "      <td>1</td>\n",
       "      <td>женат / замужем</td>\n",
       "      <td>0</td>\n",
       "      <td>M</td>\n",
       "      <td>сотрудник</td>\n",
       "      <td>0</td>\n",
       "      <td>135823.934197</td>\n",
       "      <td>образование</td>\n",
       "    </tr>\n",
       "    <tr>\n",
       "      <th>8</th>\n",
       "      <td>2</td>\n",
       "      <td>-6929.865299</td>\n",
       "      <td>35</td>\n",
       "      <td>ВЫСШЕЕ</td>\n",
       "      <td>0</td>\n",
       "      <td>гражданский брак</td>\n",
       "      <td>1</td>\n",
       "      <td>F</td>\n",
       "      <td>сотрудник</td>\n",
       "      <td>0</td>\n",
       "      <td>95856.832424</td>\n",
       "      <td>на проведение свадьбы</td>\n",
       "    </tr>\n",
       "    <tr>\n",
       "      <th>9</th>\n",
       "      <td>0</td>\n",
       "      <td>-2188.756445</td>\n",
       "      <td>41</td>\n",
       "      <td>среднее</td>\n",
       "      <td>1</td>\n",
       "      <td>женат / замужем</td>\n",
       "      <td>0</td>\n",
       "      <td>M</td>\n",
       "      <td>сотрудник</td>\n",
       "      <td>0</td>\n",
       "      <td>144425.938277</td>\n",
       "      <td>покупка жилья для семьи</td>\n",
       "    </tr>\n",
       "  </tbody>\n",
       "</table>\n",
       "</div>"
      ],
      "text/plain": [
       "   children  days_employed  dob_years education  education_id  \\\n",
       "0         1   -8437.673028         42    высшее             0   \n",
       "1         1   -4024.803754         36   среднее             1   \n",
       "2         0   -5623.422610         33   Среднее             1   \n",
       "3         3   -4124.747207         32   среднее             1   \n",
       "4         0  340266.072047         53   среднее             1   \n",
       "5         0    -926.185831         27    высшее             0   \n",
       "6         0   -2879.202052         43    высшее             0   \n",
       "7         0    -152.779569         50   СРЕДНЕЕ             1   \n",
       "8         2   -6929.865299         35    ВЫСШЕЕ             0   \n",
       "9         0   -2188.756445         41   среднее             1   \n",
       "\n",
       "      family_status  family_status_id gender income_type  debt   total_income  \\\n",
       "0   женат / замужем                 0      F   сотрудник     0  253875.639453   \n",
       "1   женат / замужем                 0      F   сотрудник     0  112080.014102   \n",
       "2   женат / замужем                 0      M   сотрудник     0  145885.952297   \n",
       "3   женат / замужем                 0      M   сотрудник     0  267628.550329   \n",
       "4  гражданский брак                 1      F   пенсионер     0  158616.077870   \n",
       "5  гражданский брак                 1      M   компаньон     0  255763.565419   \n",
       "6   женат / замужем                 0      F   компаньон     0  240525.971920   \n",
       "7   женат / замужем                 0      M   сотрудник     0  135823.934197   \n",
       "8  гражданский брак                 1      F   сотрудник     0   95856.832424   \n",
       "9   женат / замужем                 0      M   сотрудник     0  144425.938277   \n",
       "\n",
       "                      purpose  \n",
       "0               покупка жилья  \n",
       "1     приобретение автомобиля  \n",
       "2               покупка жилья  \n",
       "3  дополнительное образование  \n",
       "4             сыграть свадьбу  \n",
       "5               покупка жилья  \n",
       "6           операции с жильем  \n",
       "7                 образование  \n",
       "8       на проведение свадьбы  \n",
       "9     покупка жилья для семьи  "
      ]
     },
     "execution_count": 2,
     "metadata": {},
     "output_type": "execute_result"
    }
   ],
   "source": [
    "data = pd.read_csv('C:\\\\Users\\\\jinyn\\\\Desktop\\\\data.csv')\n",
    "data.head(10)"
   ]
  },
  {
   "cell_type": "markdown",
   "id": "b2e552cd",
   "metadata": {},
   "source": [
    "В столбце  days_employed обнаружены аномалии — отрицательное количество дней трудового стажа, также в столбце education данные введены разными шрифтами. При предобработке данных значения этих столбцов изменим."
   ]
  },
  {
   "cell_type": "markdown",
   "id": "27ead94d",
   "metadata": {},
   "source": [
    "**2. Выведем основную информацию о датафрейме с помощью метода `info()`.**"
   ]
  },
  {
   "cell_type": "code",
   "execution_count": 3,
   "id": "7e4b3dd7",
   "metadata": {},
   "outputs": [
    {
     "name": "stdout",
     "output_type": "stream",
     "text": [
      "<class 'pandas.core.frame.DataFrame'>\n",
      "RangeIndex: 21525 entries, 0 to 21524\n",
      "Data columns (total 12 columns):\n",
      " #   Column            Non-Null Count  Dtype  \n",
      "---  ------            --------------  -----  \n",
      " 0   children          21525 non-null  int64  \n",
      " 1   days_employed     19351 non-null  float64\n",
      " 2   dob_years         21525 non-null  int64  \n",
      " 3   education         21525 non-null  object \n",
      " 4   education_id      21525 non-null  int64  \n",
      " 5   family_status     21525 non-null  object \n",
      " 6   family_status_id  21525 non-null  int64  \n",
      " 7   gender            21525 non-null  object \n",
      " 8   income_type       21525 non-null  object \n",
      " 9   debt              21525 non-null  int64  \n",
      " 10  total_income      19351 non-null  float64\n",
      " 11  purpose           21525 non-null  object \n",
      "dtypes: float64(2), int64(5), object(5)\n",
      "memory usage: 2.0+ MB\n"
     ]
    }
   ],
   "source": [
    "data.info()"
   ]
  },
  {
   "cell_type": "markdown",
   "id": "8392bacf",
   "metadata": {},
   "source": [
    "Датафрейм содержит 11 колонок и 21525 срок, на этом этапе видны пропуски в колонках days_employed и total_income"
   ]
  },
  {
   "cell_type": "markdown",
   "id": "f9e69491",
   "metadata": {},
   "source": [
    "### Предобработка данных"
   ]
  },
  {
   "cell_type": "markdown",
   "id": "a271b163",
   "metadata": {},
   "source": [
    "**1. Найдем и удалим пропуски.**"
   ]
  },
  {
   "cell_type": "code",
   "execution_count": 4,
   "id": "f3027fc6",
   "metadata": {},
   "outputs": [
    {
     "data": {
      "text/plain": [
       "children               0\n",
       "days_employed       2174\n",
       "dob_years              0\n",
       "education              0\n",
       "education_id           0\n",
       "family_status          0\n",
       "family_status_id       0\n",
       "gender                 0\n",
       "income_type            0\n",
       "debt                   0\n",
       "total_income        2174\n",
       "purpose                0\n",
       "dtype: int64"
      ]
     },
     "execution_count": 4,
     "metadata": {},
     "output_type": "execute_result"
    }
   ],
   "source": [
    "data.isna().sum()"
   ]
  },
  {
   "cell_type": "markdown",
   "id": "04ba46a0",
   "metadata": {},
   "source": [
    "В двух столбцах есть пропущенные значения. Один из них — days_employed. Другой столбец с пропущенными значениями — total_income — хранит данные о доходах. На сумму дохода сильнее всего влияет тип занятости, поэтому пропуски в этом столбце далее заполним медианным значением по каждому типу из столбца income_type."
   ]
  },
  {
   "cell_type": "code",
   "execution_count": 5,
   "id": "5d5a0ba6",
   "metadata": {},
   "outputs": [
    {
     "data": {
      "text/plain": [
       "0"
      ]
     },
     "execution_count": 5,
     "metadata": {},
     "output_type": "execute_result"
    }
   ],
   "source": [
    "# напишем цикл, чтобы перебрать категории дохода с помощью метода unique() и для каждой категории заменим пропущенные \n",
    "# значения медианным значением \n",
    "for i in data['income_type'].unique():\n",
    "    mediana = data.loc[data['income_type'] == i, 'total_income'].median()\n",
    "    data.loc[(data['total_income'].isna()) & (data['income_type'] == i), 'total_income'] = mediana\n",
    "    \n",
    "# проверим остались ли пропуски в столбце\n",
    "data['total_income'].isna().sum()"
   ]
  },
  {
   "cell_type": "markdown",
   "id": "91a30568",
   "metadata": {},
   "source": [
    "**2. Обработаем аномальные значения.**"
   ]
  },
  {
   "cell_type": "code",
   "execution_count": 6,
   "id": "ba215006",
   "metadata": {},
   "outputs": [
    {
     "data": {
      "text/plain": [
       "0          8437.673028\n",
       "1          4024.803754\n",
       "2          5623.422610\n",
       "3          4124.747207\n",
       "4        340266.072047\n",
       "             ...      \n",
       "21520      4529.316663\n",
       "21521    343937.404131\n",
       "21522      2113.346888\n",
       "21523      3112.481705\n",
       "21524      1984.507589\n",
       "Name: days_employed, Length: 21525, dtype: float64"
      ]
     },
     "execution_count": 6,
     "metadata": {},
     "output_type": "execute_result"
    }
   ],
   "source": [
    "# уберем отрицательные значения в столбце days_employed\n",
    "data['days_employed'] = data['days_employed'].abs()\n",
    "data['days_employed']"
   ]
  },
  {
   "cell_type": "code",
   "execution_count": 7,
   "id": "7815292f",
   "metadata": {},
   "outputs": [
    {
     "data": {
      "text/plain": [
       "income_type\n",
       "безработный        366413.652744\n",
       "в декрете            3296.759962\n",
       "госслужащий          2689.368353\n",
       "компаньон            1547.382223\n",
       "пенсионер          365213.306266\n",
       "предприниматель       520.848083\n",
       "сотрудник            1574.202821\n",
       "студент               578.751554\n",
       "Name: days_employed, dtype: float64"
      ]
     },
     "execution_count": 7,
     "metadata": {},
     "output_type": "execute_result"
    }
   ],
   "source": [
    "# для каждого типа занятости выведем медианное значение трудового стажа days_employed в днях\n",
    "data.groupby('income_type')['days_employed'].median().astype('float')"
   ]
  },
  {
   "cell_type": "markdown",
   "id": "f8ee8b4a",
   "metadata": {},
   "source": [
    "У двух типов занятости (безработные и пенсионеры) получатся аномально большие значения, для дальнейшего исследования этот столбец не понадобится, поэтому оставим как есть."
   ]
  },
  {
   "cell_type": "code",
   "execution_count": 8,
   "id": "832e6766",
   "metadata": {},
   "outputs": [
    {
     "data": {
      "text/plain": [
       "array([ 1,  0,  3,  2, -1,  4, 20,  5], dtype=int64)"
      ]
     },
     "execution_count": 8,
     "metadata": {},
     "output_type": "execute_result"
    }
   ],
   "source": [
    "# выведем перечень уникальных значений столбца `children`\n",
    "data['children'].unique()"
   ]
  },
  {
   "cell_type": "markdown",
   "id": "a27b56da",
   "metadata": {},
   "source": [
    "В столбце есть два аномальных значения (-1 и 20), удалим эти строки из датафрейма"
   ]
  },
  {
   "cell_type": "code",
   "execution_count": 9,
   "id": "bfa30b99",
   "metadata": {},
   "outputs": [
    {
     "data": {
      "text/plain": [
       "array([1, 0, 3, 2, 4, 5], dtype=int64)"
      ]
     },
     "execution_count": 9,
     "metadata": {},
     "output_type": "execute_result"
    }
   ],
   "source": [
    "data = data[data['children'] != -1]\n",
    "data = data[data['children'] != 20]\n",
    "\n",
    "data['children'].unique()"
   ]
  },
  {
   "cell_type": "markdown",
   "id": "8ee670b3",
   "metadata": {},
   "source": [
    "**3. Продолжим удалять пропуски и изменим типы данных.** "
   ]
  },
  {
   "cell_type": "code",
   "execution_count": 10,
   "id": "6e913eff",
   "metadata": {},
   "outputs": [
    {
     "data": {
      "text/plain": [
       "children            0\n",
       "days_employed       0\n",
       "dob_years           0\n",
       "education           0\n",
       "education_id        0\n",
       "family_status       0\n",
       "family_status_id    0\n",
       "gender              0\n",
       "income_type         0\n",
       "debt                0\n",
       "total_income        0\n",
       "purpose             0\n",
       "dtype: int64"
      ]
     },
     "execution_count": 10,
     "metadata": {},
     "output_type": "execute_result"
    }
   ],
   "source": [
    "# заполним пропуски в столбце days_employed медианными значениями по каждому типу занятости income_type\n",
    "for j in data['income_type'].unique():\n",
    "    mediana = data.loc[data['income_type'] == j, 'days_employed'].median()\n",
    "    data.loc[(data['days_employed'].isna()) & (data['income_type'] == j), 'days_employed'] = mediana\n",
    "    \n",
    "# проверим остались ли пропуски в датасете\n",
    "data.isna().sum()    "
   ]
  },
  {
   "cell_type": "code",
   "execution_count": 11,
   "id": "f87b0b3b",
   "metadata": {},
   "outputs": [],
   "source": [
    "# заменим вещественный тип данных в столбце total_income на целочисленный с помощью метода astype()\n",
    "data['total_income'] = data['total_income'].astype('int')"
   ]
  },
  {
   "cell_type": "markdown",
   "id": "33243de5",
   "metadata": {},
   "source": [
    "**4. Обработаем явные и неявные дубликаты.** "
   ]
  },
  {
   "cell_type": "code",
   "execution_count": 12,
   "id": "841c9ff3",
   "metadata": {},
   "outputs": [
    {
     "data": {
      "text/plain": [
       "54"
      ]
     },
     "execution_count": 12,
     "metadata": {},
     "output_type": "execute_result"
    }
   ],
   "source": [
    "# выведем количество строк-дубликатов\n",
    "data.duplicated().sum()"
   ]
  },
  {
   "cell_type": "markdown",
   "id": "bbdf82ee",
   "metadata": {},
   "source": [
    "Найдено 54 дубликата удалим их"
   ]
  },
  {
   "cell_type": "code",
   "execution_count": 13,
   "id": "b6e55b70",
   "metadata": {},
   "outputs": [],
   "source": [
    "data = data.drop_duplicates()"
   ]
  },
  {
   "cell_type": "code",
   "execution_count": 14,
   "id": "b00a11e2",
   "metadata": {},
   "outputs": [
    {
     "data": {
      "text/plain": [
       "array(['высшее', 'среднее', 'неоконченное высшее', 'начальное',\n",
       "       'ученая степень'], dtype=object)"
      ]
     },
     "execution_count": 14,
     "metadata": {},
     "output_type": "execute_result"
    }
   ],
   "source": [
    "# приведем значения В столбце education к нижнему регистру\n",
    "data['education'] = data['education'].str.lower() \n",
    "data['education'].unique()"
   ]
  },
  {
   "cell_type": "markdown",
   "id": "8742538e",
   "metadata": {},
   "source": [
    "**5. Категоризируем данные**"
   ]
  },
  {
   "cell_type": "code",
   "execution_count": 15,
   "id": "d2b19d9f",
   "metadata": {},
   "outputs": [],
   "source": [
    "# создадим в датафрейме `data` столбец `total_income_category` с категориями с помощью метода apply, для этого \n",
    "# напишем функцию и назначим категории\n",
    "def categorize_income(total_income):\n",
    "    if total_income <= 30000:\n",
    "        return 'E'\n",
    "    if 30001 <= total_income <= 50000:\n",
    "        return 'D'\n",
    "    if 50001 <= total_income <= 200000:\n",
    "        return 'C'\n",
    "    if 200001 <= total_income <= 1000000:\n",
    "        return 'B'    \n",
    "    return 'A'\n",
    "\n",
    "data['total_income_category'] = data['total_income'].apply(categorize_income)"
   ]
  },
  {
   "cell_type": "code",
   "execution_count": 16,
   "id": "600a9b53",
   "metadata": {},
   "outputs": [
    {
     "data": {
      "text/plain": [
       "array(['покупка жилья', 'приобретение автомобиля',\n",
       "       'дополнительное образование', 'сыграть свадьбу',\n",
       "       'операции с жильем', 'образование', 'на проведение свадьбы',\n",
       "       'покупка жилья для семьи', 'покупка недвижимости',\n",
       "       'покупка коммерческой недвижимости', 'покупка жилой недвижимости',\n",
       "       'строительство собственной недвижимости', 'недвижимость',\n",
       "       'строительство недвижимости', 'на покупку подержанного автомобиля',\n",
       "       'на покупку своего автомобиля',\n",
       "       'операции с коммерческой недвижимостью',\n",
       "       'строительство жилой недвижимости', 'жилье',\n",
       "       'операции со своей недвижимостью', 'автомобили',\n",
       "       'заняться образованием', 'сделка с подержанным автомобилем',\n",
       "       'получение образования', 'автомобиль', 'свадьба',\n",
       "       'получение дополнительного образования', 'покупка своего жилья',\n",
       "       'операции с недвижимостью', 'получение высшего образования',\n",
       "       'свой автомобиль', 'сделка с автомобилем',\n",
       "       'профильное образование', 'высшее образование',\n",
       "       'покупка жилья для сдачи', 'на покупку автомобиля', 'ремонт жилью',\n",
       "       'заняться высшим образованием'], dtype=object)"
      ]
     },
     "execution_count": 16,
     "metadata": {},
     "output_type": "execute_result"
    }
   ],
   "source": [
    "# выведем перечень уникальных целей взятия кредита из столбца purpose\n",
    "data['purpose'].unique()"
   ]
  },
  {
   "cell_type": "markdown",
   "id": "2e0b1e8f",
   "metadata": {},
   "source": [
    "Значения столбца 'purpose' также необходимо категоризировать"
   ]
  },
  {
   "cell_type": "code",
   "execution_count": 17,
   "id": "667ee558",
   "metadata": {},
   "outputs": [],
   "source": [
    "# напишем собственную функцию с именем `categorize_purpose` \n",
    "def categorize_purpose(row):\n",
    "    try:\n",
    "        if 'автом' in row:\n",
    "            return 'операции с автомобилем'\n",
    "        elif 'жил' in row or 'недвиж' in row:\n",
    "            return 'операции с недвижимостью'\n",
    "        elif 'свад' in row:\n",
    "            return 'проведение свадьбы'\n",
    "        elif 'образов' in row:\n",
    "            return 'получение образования'\n",
    "    except:\n",
    "        return 'нет категории'\n",
    "\n",
    "\n",
    "data['purpose_category'] = data['purpose'].apply(categorize_purpose)"
   ]
  },
  {
   "cell_type": "markdown",
   "id": "72d08360",
   "metadata": {},
   "source": [
    "### Исследуем данные"
   ]
  },
  {
   "cell_type": "markdown",
   "id": "daaecd08",
   "metadata": {},
   "source": [
    "**1. Исследуем зависимость между количеством детей и возвратом кредита в срок**"
   ]
  },
  {
   "cell_type": "code",
   "execution_count": 18,
   "id": "73b06533",
   "metadata": {},
   "outputs": [
    {
     "data": {
      "text/plain": [
       "[0, 1, 2, 3, 4, 5]"
      ]
     },
     "execution_count": 18,
     "metadata": {},
     "output_type": "execute_result"
    }
   ],
   "source": [
    "# создадим список с кол-вом детей и отсортируем его \n",
    "unique_children = sorted(data['children'].unique())  \n",
    "unique_children"
   ]
  },
  {
   "cell_type": "code",
   "execution_count": 19,
   "id": "1de132ee",
   "metadata": {},
   "outputs": [
    {
     "name": "stdout",
     "output_type": "stream",
     "text": [
      "child_number: 0, count_people: 14107, no_debt: 13044, have_debt: 1063, percent_have_debt: 7.535266179910682\n",
      "child_number: 1, count_people: 4809, no_debt: 4365, have_debt: 444, percent_have_debt: 9.23268870867124\n",
      "child_number: 2, count_people: 2052, no_debt: 1858, have_debt: 194, percent_have_debt: 9.4541910331384\n",
      "child_number: 3, count_people: 330, no_debt: 303, have_debt: 27, percent_have_debt: 8.181818181818182\n",
      "child_number: 4, count_people: 41, no_debt: 37, have_debt: 4, percent_have_debt: 9.75609756097561\n",
      "child_number: 5, count_people: 9, no_debt: 9, have_debt: 0, percent_have_debt: 0.0\n"
     ]
    }
   ],
   "source": [
    "# проитерируем список unique_children\n",
    "for child_number in unique_children:  \n",
    "    count_people = len(data[data['children'] == child_number])                         # кол-во людей с числом детей\n",
    "    no_debt = len(data.loc[(data['debt'] == 0) & (data['children'] == child_number)])  # кол-во людей у которых нет долга\n",
    "    have_debt = len(data.loc[(data['debt'] > 0) & (data['children'] == child_number)]) # кол-во людей у которых есть долг\n",
    "    percent_have_debt = have_debt / count_people * 100                              # считаем процент должников от кол-ва людей\n",
    "    \n",
    "    # для сравнения выводим все переменные\n",
    "    print(f'child_number: {child_number}, count_people: {count_people}, no_debt: {no_debt}, have_debt: {have_debt}, percent_have_debt: {percent_have_debt}')"
   ]
  },
  {
   "cell_type": "markdown",
   "id": "1d66f78d",
   "metadata": {},
   "source": [
    "Получаем выводы:\n",
    "- клиентов с детьми и имеющими просрочку всего на 2% больше, чем клиентов без детей; \n",
    "- срок возврата кредита практически не зависит от кол-ва детей, кроме клиентов с 5 детьми, но таких клиентов всего 9, поэтому для анализа не учитываем"
   ]
  },
  {
   "cell_type": "markdown",
   "id": "42916b66",
   "metadata": {},
   "source": [
    "**2. Исследуем зависимость между семейным положением и возвратом кредита в срок.**"
   ]
  },
  {
   "cell_type": "code",
   "execution_count": 20,
   "id": "be434cc0",
   "metadata": {},
   "outputs": [
    {
     "name": "stdout",
     "output_type": "stream",
     "text": [
      "женат / замужем : не возвращали в срок 7.56%\n",
      "гражданский брак : не возвращали в срок 9.29%\n",
      "вдовец / вдова : не возвращали в срок 6.62%\n",
      "в разводе : не возвращали в срок 7.06%\n",
      "Не женат / не замужем : не возвращали в срок 9.76%\n"
     ]
    }
   ],
   "source": [
    "# циклом пройдемся по столбцу 'family_status' и рассчитаем показатели\n",
    "for status in data['family_status'].unique():\n",
    "    count = len(data[data['family_status'] == status])  #посчитаем обшее кол-во людей с разными статусами\n",
    "    count_debt = len(data.loc[(data['debt'] == 1) & (data['family_status'] == status)]) #посчитаем всех людей, которые не возращали кредиты в срок\n",
    "    count_debt_percent = count_debt / count # найдем отношение этих велечин\n",
    "    print(status,':', 'не возвращали в срок {:.2%}'.format(count_debt_percent))"
   ]
  },
  {
   "cell_type": "markdown",
   "id": "34647909",
   "metadata": {},
   "source": [
    "Получаем вывод:  зависимость возврата кредита определенно прослеживается, не женатые/не хамужем и живущие в гражданском браке чаще не вовращают кредит в срок, а реже не возращают кредиты категория вдовец/вдова"
   ]
  },
  {
   "cell_type": "markdown",
   "id": "7e413559",
   "metadata": {},
   "source": [
    "**3. Исследуем зависимость между уровнем дохода и возвратом кредита в срок.**"
   ]
  },
  {
   "cell_type": "code",
   "execution_count": 21,
   "id": "af2e4d79",
   "metadata": {},
   "outputs": [
    {
     "data": {
      "text/html": [
       "<div>\n",
       "<style scoped>\n",
       "    .dataframe tbody tr th:only-of-type {\n",
       "        vertical-align: middle;\n",
       "    }\n",
       "\n",
       "    .dataframe tbody tr th {\n",
       "        vertical-align: top;\n",
       "    }\n",
       "\n",
       "    .dataframe thead tr th {\n",
       "        text-align: left;\n",
       "    }\n",
       "</style>\n",
       "<table border=\"1\" class=\"dataframe\">\n",
       "  <thead>\n",
       "    <tr>\n",
       "      <th></th>\n",
       "      <th>total_income_category</th>\n",
       "      <th colspan=\"2\" halign=\"left\">debt</th>\n",
       "    </tr>\n",
       "    <tr>\n",
       "      <th></th>\n",
       "      <th></th>\n",
       "      <th>count</th>\n",
       "      <th>sum</th>\n",
       "    </tr>\n",
       "  </thead>\n",
       "  <tbody>\n",
       "    <tr>\n",
       "      <th>0</th>\n",
       "      <td>A</td>\n",
       "      <td>25</td>\n",
       "      <td>2</td>\n",
       "    </tr>\n",
       "    <tr>\n",
       "      <th>1</th>\n",
       "      <td>B</td>\n",
       "      <td>5014</td>\n",
       "      <td>354</td>\n",
       "    </tr>\n",
       "    <tr>\n",
       "      <th>2</th>\n",
       "      <td>C</td>\n",
       "      <td>15938</td>\n",
       "      <td>1353</td>\n",
       "    </tr>\n",
       "    <tr>\n",
       "      <th>3</th>\n",
       "      <td>D</td>\n",
       "      <td>349</td>\n",
       "      <td>21</td>\n",
       "    </tr>\n",
       "    <tr>\n",
       "      <th>4</th>\n",
       "      <td>E</td>\n",
       "      <td>22</td>\n",
       "      <td>2</td>\n",
       "    </tr>\n",
       "  </tbody>\n",
       "</table>\n",
       "</div>"
      ],
      "text/plain": [
       "  total_income_category   debt      \n",
       "                         count   sum\n",
       "0                     A     25     2\n",
       "1                     B   5014   354\n",
       "2                     C  15938  1353\n",
       "3                     D    349    21\n",
       "4                     E     22     2"
      ]
     },
     "metadata": {},
     "output_type": "display_data"
    },
    {
     "data": {
      "text/plain": [
       "0    8.000000\n",
       "1    7.060231\n",
       "2    8.489145\n",
       "3    6.017192\n",
       "4    9.090909\n",
       "dtype: float64"
      ]
     },
     "metadata": {},
     "output_type": "display_data"
    }
   ],
   "source": [
    "# раннее создали столбец 'total_income_category', сгруппируем данные и рассчитаем кол-во и сумму задолжности\n",
    "data_grouped = data.groupby('total_income_category').agg({'debt': ['count', 'sum']}).reset_index()\n",
    "\n",
    "# поделим столбец с количеством должников на столбец с общим количеством клиентов и выведем\n",
    "display(data_grouped, data_grouped['debt']['sum'] / data_grouped['debt']['count'] * 100)"
   ]
  },
  {
   "cell_type": "markdown",
   "id": "05519a8d",
   "metadata": {},
   "source": [
    "Зависимость наличия просрочки от уровня дохода прослеживается, так категории С (доход 50 тыс до 200 тыс.) и Е (доход < 30 тыс.) чаще других имеют просрочку"
   ]
  },
  {
   "cell_type": "markdown",
   "id": "0ea61d2b",
   "metadata": {},
   "source": [
    "**4. Исследуем как разные цели кредита влияют на его возврат в срок.**"
   ]
  },
  {
   "cell_type": "code",
   "execution_count": 22,
   "id": "51276476",
   "metadata": {},
   "outputs": [
    {
     "name": "stdout",
     "output_type": "stream",
     "text": [
      "операции с недвижимостью просрочили:7.25%\n",
      "операции с автомобилем просрочили:9.34%\n",
      "получение образования просрочили:9.25%\n",
      "проведение свадьбы просрочили:7.87%\n"
     ]
    }
   ],
   "source": [
    "# ранее создали столбец, где объединили цели'purpose_category'\n",
    "\n",
    "# проитерируем уникальные значения этого столбца\n",
    "for category in data['purpose_category'].unique():  \n",
    "    count = len(data[data['purpose_category'] == category]) #посчитаем обшее кол-во людей \n",
    "    count_debt = len(data.loc[(data['debt'] == 1) & (data['purpose_category'] == category)]) #посчитаем всех людей, которые не возращали кредиты в срок\n",
    "    count_debt_percent = count_debt / count  # посчитаем отношение\n",
    "    print(category, 'просрочили:{:.2%}'.format(count_debt_percent))\n"
   ]
  },
  {
   "cell_type": "markdown",
   "id": "4cd370fd",
   "metadata": {},
   "source": [
    "Больше всего просрочек у кредитов на покупку автомобиля и получение образования"
   ]
  },
  {
   "cell_type": "markdown",
   "id": "eed6ed25",
   "metadata": {},
   "source": [
    "ОБШИЙ ВЫВОД:\n",
    "1. клиенты с детьми чаще допускают просрочку кредитов, чем людей без детей, но в целом эта разница не критична, составляет всего 2%\n",
    "2. количество детей у клиента не влияет на факт погашения кредита в срок\n",
    "3. не женатые и живущие в гражданском браке клиенты чаще остальных групп не вовращают кредит в срок\n",
    "4. клиенты с низким уровнем дохода (до 30 тыс) и с доходом от 50 до 200 тыс чаще имеют просрочку \n",
    "5. клиенты, берущие кредит на покупку автомобиля и получение образование, имеют просроченность по возврату чаще, чем кредит на другие цели\n",
    "\n",
    "Семейное положение и количество детей клиента определенно влияют на факт погашения кредита в срок. Самые надежные заемщики это клиенты в разводе или вдовцы, без детей и с уровнем дохода от 200 до 500 тыс. рублей"
   ]
  }
 ],
 "metadata": {
  "celltoolbar": "Необработанный формат ячейки",
  "kernelspec": {
   "display_name": "Python 3 (ipykernel)",
   "language": "python",
   "name": "python3"
  },
  "language_info": {
   "codemirror_mode": {
    "name": "ipython",
    "version": 3
   },
   "file_extension": ".py",
   "mimetype": "text/x-python",
   "name": "python",
   "nbconvert_exporter": "python",
   "pygments_lexer": "ipython3",
   "version": "3.9.12"
  }
 },
 "nbformat": 4,
 "nbformat_minor": 5
}
